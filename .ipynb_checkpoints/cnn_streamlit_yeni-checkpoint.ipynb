{
 "cells": [
  {
   "cell_type": "code",
   "execution_count": 6,
   "id": "96c52d2b-a27b-4c09-9f09-cbb44800cf62",
   "metadata": {
    "ExecuteTime": {
     "end_time": "2023-09-20T20:11:51.718358Z",
     "start_time": "2023-09-20T20:11:51.694619Z"
    },
    "tags": []
   },
   "outputs": [
    {
     "name": "stdout",
     "output_type": "stream",
     "text": [
      "Overwriting flowers_streamlit.py\n"
     ]
    }
   ],
   "source": [
    "%%writefile flowers_streamlit.py\n",
    "import streamlit as st\n",
    "import tensorflow as tf\n",
    "from PIL import Image\n",
    "import pandas as pd\n",
    "import numpy as np\n",
    "from tensorflow.keras.models import load_model\n",
    "import requests\n",
    "from io import BytesIO\n",
    "st.markdown(\n",
    "    \"\"\"\n",
    "    <style>\n",
    "    .stApp {\n",
    "        background-color: #83e627;  /* Koyu sarı renk */\n",
    "    </style>\n",
    "    \"\"\",\n",
    "    unsafe_allow_html=True\n",
    ")\n",
    "# Streamlit uygulamasını başlat\n",
    "st.markdown('<div style=\"display: flex; justify-content: flex-end; margin-top:-70px\"><img src=\"https://i.pinimg.com/originals/4a/73/1f/4a731f6a5480f6ee8b9bfb34168c333b.gif\" alt=\"GIF\" width=\"100%\" style=\"max-width: 400px; margin-right: 160px;\"></div>', unsafe_allow_html=True)\n",
    "st.markdown('<p style=\"background-color: #8a4baf; color: white; font-size: 30px; padding: 20px; border-radius: 10px; text-align: center; box-shadow: 0px 6px 8px rgba(0, 0, 0, 0.1);\">🌻Çiçek Tahmin Uygulaması🌻</p>', unsafe_allow_html=True)\n",
    "st.markdown('<p style=\"background-color: #8a4baf; color: white; font-size: 20px; padding: 10px; border-radius: 5px; text-align: center; box-shadow: 0px 2px 3px rgba(0, 0, 0, 0.1);\">💐Çiçek Türleri💐</p>', unsafe_allow_html=True)\n",
    "st.image(\"Turler.png\", use_column_width=True)\n",
    "# Kullanıcıdan resim yükleme yöntemini seçmesini isteyin\n",
    "st.sidebar.title(\"Resim Yükleme Yöntemi\")\n",
    "upload_method = st.sidebar.radio(\"Lütfen bir model seçin:\", [\"Bilgisayarınızdan Yükle\", \"İnternet Bağlantısı ile Yükle\"])\n",
    "\n",
    "uploaded_image = None  # Kullanıcının yüklediği resmi saklamak için\n",
    "\n",
    "if upload_method == \"Bilgisayarınızdan Yükle\":\n",
    "    # Kullanıcıdan resim yükleme\n",
    "    #st.write(\"Lütfen bir çiçek resmi yükleyin:\")\n",
    "    uploaded_image = st.file_uploader(\"Lütfen bir çiçek resmi yükleyin:\", type=[\"jpg\", \"png\", \"jpeg\"])\n",
    "elif upload_method == \"İnternet Bağlantısı ile Yükle\":\n",
    "    # Kullanıcıdan internet linki alın\n",
    "    st.write(\"Lütfen bir çiçek resmi internet linkini girin:\")\n",
    "    image_url = st.text_input(\"Resim Linki\")\n",
    "\n",
    "# Model seçimi\n",
    "st.sidebar.title(\"Model Seçimi\")\n",
    "selected_model = st.sidebar.radio(\"Lütfen bir model seçin:\", [\"Xception_model\", \"CNN_model\", \"VGG16_model\", \"ResNet_model\", \"InceptionV3_model\", \"EfficientNetB0_model\"])\n",
    "\n",
    "\n",
    "# Resmi yükle ve tahmin et butonları\n",
    "if uploaded_image is not None or (upload_method == \"İnternet Bağlantısı ile Yükle\" and image_url):\n",
    "    st.markdown('<p style=\"background-color: #8a4baf; color: white; font-size: 20px; padding: 10px; border-radius: 5px; text-align: center; box-shadow: 0px 2px 3px rgba(0, 0, 0, 0.1);\">🌼Seçtiğiniz Resim🌼</p>', unsafe_allow_html=True)\n",
    "    #st.write(\"Seçtiğiniz Resim\")\n",
    "    if uploaded_image is not None:\n",
    "        st.image(uploaded_image, caption='', use_column_width=True)\n",
    "    elif upload_method == \"İnternet Bağlantısı ile Yükle\" and image_url:\n",
    "        try:\n",
    "            response = requests.get(image_url)\n",
    "            image = Image.open(BytesIO(response.content))\n",
    "            st.image(image, caption='', use_column_width=True)\n",
    "        except Exception as e:\n",
    "            st.error(\"Resim yüklenirken bir hata oluştu. Lütfen geçerli bir internet linki girin.\")\n",
    "\n",
    "# Model bilgisi düğmesi\n",
    "if st.sidebar.button(\"Model Hakkında Bilgi\"):\n",
    "    st.markdown(f'<p style=\"background-color: #8a4baf; color: white; font-size: 20px; padding: 10px; border-radius: 5px; text-align: center; box-shadow: 0px 2px 3px rgba(0, 0, 0, 0.1);\">🌷{selected_model}🌷</p>', unsafe_allow_html=True)\n",
    "    \n",
    "    if selected_model == \"Xception_model\":\n",
    "        st.write(\"Xception modeli, Inception mimarisinin bir türevidir ve bilgisayarlı görü ve sınıflandırma görevlerinde kullanılan verimli bir derin öğrenme sinir ağıdır. Cross-channel ilişkileri daha etkili bir şekilde öğrenerek daha düşük parametre sayısıyla yüksek doğruluk sağlar.\")\n",
    "    elif selected_model == \"CNN_model\":\n",
    "        st.write(\"CNN_model, temel bir Evrişimli Sinir Ağı (CNN) modelidir. Evrişimli katmanlar, pooling katmanları ve tam bağlantılı katmanlar içerir. Genellikle temel görsel sınıflandırma görevleri için kullanılır.\")\n",
    "    elif selected_model == \"VGG16_model\":\n",
    "        st.write(\"VGG16_model, 16 katmanlı bir derin Evrişimli Sinir Ağı modelidir. Ardışık olarak evrişimli ve pooling katmanları içerir. Görsel sınıflandırma ve nesne tanıma gibi görevler için kullanılır.\")\n",
    "    elif selected_model == \"ResNet_model\":\n",
    "        st.write(\"ResNet_model, derin ağları eğitmeyi kolaylaştırmak için 'residual' blokları kullanan bir derin Evrişimli Sinir Ağı modelidir. Derin ağların eğitimini iyileştirmek için kullanılır.\")\n",
    "    elif selected_model == \"InceptionV3_model\":\n",
    "        st.write(\"InceptionV3_model, ikinci nesil 'Inception' mimarisini kullanarak çok çeşitli kernel boyutlarını bir araya getiren bir derin Evrişimli Sinir Ağı modelidir. Karmaşık görsel görevler için uygundur.\")\n",
    "    elif selected_model == \"EfficientNetB0_model\":\n",
    "        st.write(\"EfficientNetB0_model, 'EfficientNet' ailesinin en küçük modelidir ve ağ yapısını özenle optimize eder. Yüksek performans ve düşük hesaplama maliyeti gerektiren görsel işleme görevleri için uygundur.\")\n",
    "\n",
    "# Tahmin yap butonu\n",
    "if st.button(\"Tahmin Et\"):\n",
    "    if upload_method == \"Bilgisayarınızdan Yükle\" and uploaded_image is not None:\n",
    "        image = Image.open(uploaded_image)\n",
    "    elif upload_method == \"İnternet Bağlantısı ile Yükle\" and image_url:\n",
    "        try:\n",
    "            response = requests.get(image_url)\n",
    "            image = Image.open(BytesIO(response.content))\n",
    "        except Exception as e:\n",
    "            st.error(\"Resim yüklenirken bir hata oluştu. Lütfen geçerli bir internet linki girin.\")\n",
    "\n",
    "    # Kullanıcının seçtiği modele göre modeli yükle\n",
    "    if selected_model == \"Xception_model\":\n",
    "        model_path = 'flowers_transfer_learning_Xception.h5'\n",
    "    elif selected_model == \"CNN_model\":\n",
    "        model_path = 'flowers_manuel_cnn_model_uzun(0.85-0.75).h5'\n",
    "    elif selected_model == \"VGG16_model\":\n",
    "        model_path = 'VGG16.h5'\n",
    "    elif selected_model == \"ResNet_model\":\n",
    "        model_path = 'flowers_transfer_learning_ResNet152.h5'\n",
    "    elif selected_model == \"InceptionV3_model\":\n",
    "        model_path = 'InceptionV3.h5'\n",
    "    elif selected_model == \"EfficientNetB0_model\":\n",
    "        model_path = 'EfficientNetV2_S_model_trial_2.h5'    \n",
    "       \n",
    "        \n",
    "\n",
    "    # Seçilen modeli yükle\n",
    "    model = tf.keras.models.load_model(model_path, compile=False)\n",
    "\n",
    "    # Resmi model için hazırla ve tahmin yap\n",
    "    if 'image' in locals():\n",
    "        image = image.resize((224, 224))\n",
    "        image = tf.keras.preprocessing.image.img_to_array(image)\n",
    "        image = image / 255.0\n",
    "        image = np.expand_dims(image, axis=0)\n",
    "\n",
    "        # Tahmin yap\n",
    "        prediction = model.predict(image)\n",
    "\n",
    "        # Tahmin sonuçlarını göster\n",
    "        class_names = [\"Daisy\", \"Dandelion\", \"Rose\", \"Sunflower\", \"Tulip\"]  # Modelin tahmin sınıfları\n",
    "        predicted_class = class_names[np.argmax(prediction)]\n",
    "        confidence = np.max(prediction)\n",
    "        \n",
    "        st.markdown(f'<p style=\"background-color: #8a4baf; color: white; font-size: 20px; padding: 10px; border-radius: 5px; text-align: center; box-shadow: 0px 2px 3px rgba(0, 0, 0, 0.1);\">🌷Model Tahmini🌷</p>', unsafe_allow_html=True)\n",
    "\n",
    "        st.write(f\"Tahmin Sonucu: {predicted_class}\")\n",
    "        st.write(f\"Tahmin Güveni: {confidence:.2f}\")\n",
    "        \n",
    "        st.markdown('<p style=\"background-color: #8a4baf; color: white; font-size: 20px; padding: 10px; border-radius: 5px; text-align: center; box-shadow: 0px 2px 3px rgba(0, 0, 0, 0.1);\">📊 Tahmin Olasılıkları 📊</p>', unsafe_allow_html=True)\n",
    "        prediction_df = pd.DataFrame({'Çiçek Türleri': class_names, 'Olasılıklar': prediction[0]})\n",
    "        st.bar_chart(prediction_df.set_index('Çiçek Türleri'))"
   ]
  },
  {
   "cell_type": "code",
   "execution_count": 5,
   "id": "07e69862-a7a7-4d72-9ce3-634510e96cff",
   "metadata": {
    "ExecuteTime": {
     "end_time": "2023-09-20T20:11:49.798602Z",
     "start_time": "2023-09-20T20:09:48.174451Z"
    }
   },
   "outputs": [
    {
     "name": "stdout",
     "output_type": "stream",
     "text": [
      "^C\n"
     ]
    }
   ],
   "source": [
    "!streamlit run flowers_streamlit.py"
   ]
  },
  {
   "cell_type": "code",
   "execution_count": null,
   "id": "b7a875f6",
   "metadata": {},
   "outputs": [],
   "source": []
  }
 ],
 "metadata": {
  "hide_input": false,
  "kernelspec": {
   "display_name": "Python 3 (ipykernel)",
   "language": "python",
   "name": "python3"
  },
  "language_info": {
   "codemirror_mode": {
    "name": "ipython",
    "version": 3
   },
   "file_extension": ".py",
   "mimetype": "text/x-python",
   "name": "python",
   "nbconvert_exporter": "python",
   "pygments_lexer": "ipython3",
   "version": "3.9.13"
  },
  "nbTranslate": {
   "displayLangs": [
    "*"
   ],
   "hotkey": "alt-t",
   "langInMainMenu": true,
   "sourceLang": "en",
   "targetLang": "fr",
   "useGoogleTranslate": true
  },
  "toc": {
   "base_numbering": 1,
   "nav_menu": {},
   "number_sections": true,
   "sideBar": true,
   "skip_h1_title": false,
   "title_cell": "Table of Contents",
   "title_sidebar": "Contents",
   "toc_cell": false,
   "toc_position": {},
   "toc_section_display": true,
   "toc_window_display": false
  }
 },
 "nbformat": 4,
 "nbformat_minor": 5
}
